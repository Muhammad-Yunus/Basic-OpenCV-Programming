{
 "cells": [
  {
   "cell_type": "code",
   "execution_count": 3,
   "metadata": {},
   "outputs": [
    {
     "name": "stdout",
     "output_type": "stream",
     "text": [
      "hello world!\n"
     ]
    }
   ],
   "source": [
    "print(\"hello world!\")"
   ]
  },
  {
   "cell_type": "code",
   "execution_count": 4,
   "metadata": {},
   "outputs": [
    {
     "name": "stdout",
     "output_type": "stream",
     "text": [
      "5\n"
     ]
    }
   ],
   "source": [
    "print (2+3)"
   ]
  },
  {
   "cell_type": "code",
   "execution_count": 5,
   "metadata": {},
   "outputs": [
    {
     "name": "stdout",
     "output_type": "stream",
     "text": [
      "value : 2\n"
     ]
    }
   ],
   "source": [
    "print (\"value : \" + str(2))"
   ]
  },
  {
   "cell_type": "code",
   "execution_count": 6,
   "metadata": {},
   "outputs": [],
   "source": [
    "import math"
   ]
  },
  {
   "cell_type": "code",
   "execution_count": 7,
   "metadata": {},
   "outputs": [
    {
     "data": {
      "text/plain": [
       "['__doc__',\n",
       " '__loader__',\n",
       " '__name__',\n",
       " '__package__',\n",
       " '__spec__',\n",
       " 'acos',\n",
       " 'acosh',\n",
       " 'asin',\n",
       " 'asinh',\n",
       " 'atan',\n",
       " 'atan2',\n",
       " 'atanh',\n",
       " 'ceil',\n",
       " 'copysign',\n",
       " 'cos',\n",
       " 'cosh',\n",
       " 'degrees',\n",
       " 'e',\n",
       " 'erf',\n",
       " 'erfc',\n",
       " 'exp',\n",
       " 'expm1',\n",
       " 'fabs',\n",
       " 'factorial',\n",
       " 'floor',\n",
       " 'fmod',\n",
       " 'frexp',\n",
       " 'fsum',\n",
       " 'gamma',\n",
       " 'gcd',\n",
       " 'hypot',\n",
       " 'inf',\n",
       " 'isclose',\n",
       " 'isfinite',\n",
       " 'isinf',\n",
       " 'isnan',\n",
       " 'ldexp',\n",
       " 'lgamma',\n",
       " 'log',\n",
       " 'log10',\n",
       " 'log1p',\n",
       " 'log2',\n",
       " 'modf',\n",
       " 'nan',\n",
       " 'pi',\n",
       " 'pow',\n",
       " 'radians',\n",
       " 'remainder',\n",
       " 'sin',\n",
       " 'sinh',\n",
       " 'sqrt',\n",
       " 'tan',\n",
       " 'tanh',\n",
       " 'tau',\n",
       " 'trunc']"
      ]
     },
     "execution_count": 7,
     "metadata": {},
     "output_type": "execute_result"
    }
   ],
   "source": [
    "dir(math)"
   ]
  },
  {
   "cell_type": "code",
   "execution_count": 8,
   "metadata": {},
   "outputs": [
    {
     "name": "stdout",
     "output_type": "stream",
     "text": [
      "Help on built-in module math:\n",
      "\n",
      "NAME\n",
      "    math\n",
      "\n",
      "DESCRIPTION\n",
      "    This module is always available.  It provides access to the\n",
      "    mathematical functions defined by the C standard.\n",
      "\n",
      "FUNCTIONS\n",
      "    acos(x, /)\n",
      "        Return the arc cosine (measured in radians) of x.\n",
      "    \n",
      "    acosh(x, /)\n",
      "        Return the inverse hyperbolic cosine of x.\n",
      "    \n",
      "    asin(x, /)\n",
      "        Return the arc sine (measured in radians) of x.\n",
      "    \n",
      "    asinh(x, /)\n",
      "        Return the inverse hyperbolic sine of x.\n",
      "    \n",
      "    atan(x, /)\n",
      "        Return the arc tangent (measured in radians) of x.\n",
      "    \n",
      "    atan2(y, x, /)\n",
      "        Return the arc tangent (measured in radians) of y/x.\n",
      "        \n",
      "        Unlike atan(y/x), the signs of both x and y are considered.\n",
      "    \n",
      "    atanh(x, /)\n",
      "        Return the inverse hyperbolic tangent of x.\n",
      "    \n",
      "    ceil(x, /)\n",
      "        Return the ceiling of x as an Integral.\n",
      "        \n",
      "        This is the smallest integer >= x.\n",
      "    \n",
      "    copysign(x, y, /)\n",
      "        Return a float with the magnitude (absolute value) of x but the sign of y.\n",
      "        \n",
      "        On platforms that support signed zeros, copysign(1.0, -0.0)\n",
      "        returns -1.0.\n",
      "    \n",
      "    cos(x, /)\n",
      "        Return the cosine of x (measured in radians).\n",
      "    \n",
      "    cosh(x, /)\n",
      "        Return the hyperbolic cosine of x.\n",
      "    \n",
      "    degrees(x, /)\n",
      "        Convert angle x from radians to degrees.\n",
      "    \n",
      "    erf(x, /)\n",
      "        Error function at x.\n",
      "    \n",
      "    erfc(x, /)\n",
      "        Complementary error function at x.\n",
      "    \n",
      "    exp(x, /)\n",
      "        Return e raised to the power of x.\n",
      "    \n",
      "    expm1(x, /)\n",
      "        Return exp(x)-1.\n",
      "        \n",
      "        This function avoids the loss of precision involved in the direct evaluation of exp(x)-1 for small x.\n",
      "    \n",
      "    fabs(x, /)\n",
      "        Return the absolute value of the float x.\n",
      "    \n",
      "    factorial(x, /)\n",
      "        Find x!.\n",
      "        \n",
      "        Raise a ValueError if x is negative or non-integral.\n",
      "    \n",
      "    floor(x, /)\n",
      "        Return the floor of x as an Integral.\n",
      "        \n",
      "        This is the largest integer <= x.\n",
      "    \n",
      "    fmod(x, y, /)\n",
      "        Return fmod(x, y), according to platform C.\n",
      "        \n",
      "        x % y may differ.\n",
      "    \n",
      "    frexp(x, /)\n",
      "        Return the mantissa and exponent of x, as pair (m, e).\n",
      "        \n",
      "        m is a float and e is an int, such that x = m * 2.**e.\n",
      "        If x is 0, m and e are both 0.  Else 0.5 <= abs(m) < 1.0.\n",
      "    \n",
      "    fsum(seq, /)\n",
      "        Return an accurate floating point sum of values in the iterable seq.\n",
      "        \n",
      "        Assumes IEEE-754 floating point arithmetic.\n",
      "    \n",
      "    gamma(x, /)\n",
      "        Gamma function at x.\n",
      "    \n",
      "    gcd(x, y, /)\n",
      "        greatest common divisor of x and y\n",
      "    \n",
      "    hypot(x, y, /)\n",
      "        Return the Euclidean distance, sqrt(x*x + y*y).\n",
      "    \n",
      "    isclose(a, b, *, rel_tol=1e-09, abs_tol=0.0)\n",
      "        Determine whether two floating point numbers are close in value.\n",
      "        \n",
      "          rel_tol\n",
      "            maximum difference for being considered \"close\", relative to the\n",
      "            magnitude of the input values\n",
      "          abs_tol\n",
      "            maximum difference for being considered \"close\", regardless of the\n",
      "            magnitude of the input values\n",
      "        \n",
      "        Return True if a is close in value to b, and False otherwise.\n",
      "        \n",
      "        For the values to be considered close, the difference between them\n",
      "        must be smaller than at least one of the tolerances.\n",
      "        \n",
      "        -inf, inf and NaN behave similarly to the IEEE 754 Standard.  That\n",
      "        is, NaN is not close to anything, even itself.  inf and -inf are\n",
      "        only close to themselves.\n",
      "    \n",
      "    isfinite(x, /)\n",
      "        Return True if x is neither an infinity nor a NaN, and False otherwise.\n",
      "    \n",
      "    isinf(x, /)\n",
      "        Return True if x is a positive or negative infinity, and False otherwise.\n",
      "    \n",
      "    isnan(x, /)\n",
      "        Return True if x is a NaN (not a number), and False otherwise.\n",
      "    \n",
      "    ldexp(x, i, /)\n",
      "        Return x * (2**i).\n",
      "        \n",
      "        This is essentially the inverse of frexp().\n",
      "    \n",
      "    lgamma(x, /)\n",
      "        Natural logarithm of absolute value of Gamma function at x.\n",
      "    \n",
      "    log(...)\n",
      "        log(x, [base=math.e])\n",
      "        Return the logarithm of x to the given base.\n",
      "        \n",
      "        If the base not specified, returns the natural logarithm (base e) of x.\n",
      "    \n",
      "    log10(x, /)\n",
      "        Return the base 10 logarithm of x.\n",
      "    \n",
      "    log1p(x, /)\n",
      "        Return the natural logarithm of 1+x (base e).\n",
      "        \n",
      "        The result is computed in a way which is accurate for x near zero.\n",
      "    \n",
      "    log2(x, /)\n",
      "        Return the base 2 logarithm of x.\n",
      "    \n",
      "    modf(x, /)\n",
      "        Return the fractional and integer parts of x.\n",
      "        \n",
      "        Both results carry the sign of x and are floats.\n",
      "    \n",
      "    pow(x, y, /)\n",
      "        Return x**y (x to the power of y).\n",
      "    \n",
      "    radians(x, /)\n",
      "        Convert angle x from degrees to radians.\n",
      "    \n",
      "    remainder(x, y, /)\n",
      "        Difference between x and the closest integer multiple of y.\n",
      "        \n",
      "        Return x - n*y where n*y is the closest integer multiple of y.\n",
      "        In the case where x is exactly halfway between two multiples of\n",
      "        y, the nearest even value of n is used. The result is always exact.\n",
      "    \n",
      "    sin(x, /)\n",
      "        Return the sine of x (measured in radians).\n",
      "    \n",
      "    sinh(x, /)\n",
      "        Return the hyperbolic sine of x.\n",
      "    \n",
      "    sqrt(x, /)\n",
      "        Return the square root of x.\n",
      "    \n",
      "    tan(x, /)\n",
      "        Return the tangent of x (measured in radians).\n",
      "    \n",
      "    tanh(x, /)\n",
      "        Return the hyperbolic tangent of x.\n",
      "    \n",
      "    trunc(x, /)\n",
      "        Truncates the Real x to the nearest Integral toward 0.\n",
      "        \n",
      "        Uses the __trunc__ magic method.\n",
      "\n",
      "DATA\n",
      "    e = 2.718281828459045\n",
      "    inf = inf\n",
      "    nan = nan\n",
      "    pi = 3.141592653589793\n",
      "    tau = 6.283185307179586\n",
      "\n",
      "FILE\n",
      "    (built-in)\n",
      "\n",
      "\n"
     ]
    }
   ],
   "source": [
    "help(math)\n"
   ]
  },
  {
   "cell_type": "code",
   "execution_count": 12,
   "metadata": {},
   "outputs": [],
   "source": [
    "usia = 20"
   ]
  },
  {
   "cell_type": "code",
   "execution_count": 13,
   "metadata": {},
   "outputs": [
    {
     "data": {
      "text/plain": [
       "int"
      ]
     },
     "execution_count": 13,
     "metadata": {},
     "output_type": "execute_result"
    }
   ],
   "source": [
    "type(usia)"
   ]
  },
  {
   "cell_type": "code",
   "execution_count": 14,
   "metadata": {},
   "outputs": [],
   "source": [
    "usia = \"20\""
   ]
  },
  {
   "cell_type": "code",
   "execution_count": 15,
   "metadata": {},
   "outputs": [
    {
     "data": {
      "text/plain": [
       "str"
      ]
     },
     "execution_count": 15,
     "metadata": {},
     "output_type": "execute_result"
    }
   ],
   "source": [
    "type(usia)"
   ]
  },
  {
   "cell_type": "code",
   "execution_count": 16,
   "metadata": {},
   "outputs": [],
   "source": [
    "usia = '20'"
   ]
  },
  {
   "cell_type": "code",
   "execution_count": 17,
   "metadata": {},
   "outputs": [
    {
     "data": {
      "text/plain": [
       "str"
      ]
     },
     "execution_count": 17,
     "metadata": {},
     "output_type": "execute_result"
    }
   ],
   "source": [
    "type(usia)"
   ]
  },
  {
   "cell_type": "code",
   "execution_count": 18,
   "metadata": {},
   "outputs": [],
   "source": [
    "usia = 20.5"
   ]
  },
  {
   "cell_type": "code",
   "execution_count": 19,
   "metadata": {},
   "outputs": [
    {
     "data": {
      "text/plain": [
       "float"
      ]
     },
     "execution_count": 19,
     "metadata": {},
     "output_type": "execute_result"
    }
   ],
   "source": [
    "type(usia)"
   ]
  },
  {
   "cell_type": "code",
   "execution_count": 20,
   "metadata": {},
   "outputs": [
    {
     "ename": "NameError",
     "evalue": "name 'true' is not defined",
     "output_type": "error",
     "traceback": [
      "\u001b[0;31m---------------------------------------------------------------------------\u001b[0m",
      "\u001b[0;31mNameError\u001b[0m                                 Traceback (most recent call last)",
      "\u001b[0;32m<ipython-input-20-d8dd9e4b5fd8>\u001b[0m in \u001b[0;36m<module>\u001b[0;34m\u001b[0m\n\u001b[0;32m----> 1\u001b[0;31m \u001b[0musia\u001b[0m \u001b[0;34m=\u001b[0m \u001b[0mtrue\u001b[0m\u001b[0;34m\u001b[0m\u001b[0;34m\u001b[0m\u001b[0m\n\u001b[0m",
      "\u001b[0;31mNameError\u001b[0m: name 'true' is not defined"
     ]
    }
   ],
   "source": [
    "usia = true"
   ]
  },
  {
   "cell_type": "code",
   "execution_count": 21,
   "metadata": {},
   "outputs": [],
   "source": [
    "usia = True"
   ]
  },
  {
   "cell_type": "code",
   "execution_count": 22,
   "metadata": {},
   "outputs": [
    {
     "data": {
      "text/plain": [
       "bool"
      ]
     },
     "execution_count": 22,
     "metadata": {},
     "output_type": "execute_result"
    }
   ],
   "source": [
    "type(usia)"
   ]
  },
  {
   "cell_type": "code",
   "execution_count": 26,
   "metadata": {},
   "outputs": [
    {
     "name": "stdout",
     "output_type": "stream",
     "text": [
      "Siapa nama kamu: aa\n",
      "Berapa umur kamu: 12\n",
      "Hello aa umur kamu adalah 12 tahun\n"
     ]
    }
   ],
   "source": [
    "# Mengambil input\n",
    "nama = input(\"Siapa nama kamu: \")\n",
    "umur = input(\"Berapa umur kamu: \")\n",
    "\n",
    "# Menampilkan output\n",
    "print (\"Hello\",nama,\"umur kamu adalah\",umur,\"tahun\")"
   ]
  },
  {
   "cell_type": "code",
   "execution_count": 32,
   "metadata": {},
   "outputs": [
    {
     "name": "stdout",
     "output_type": "stream",
     "text": [
      "Inputkan nilai a: 2\n",
      "Inputkan nilai b: 4\n",
      "Hasil 2 + 4 = 6\n",
      "Hasil 2 - 4 = -2\n"
     ]
    }
   ],
   "source": [
    "# Ambil input untuk mengisi nilai\n",
    "a = int(input(\"Inputkan nilai a: \"))\n",
    "b = int(input(\"Inputkan nilai b: \"))\n",
    "\n",
    "# Menggunakan operator penjumlahan\n",
    "c = a + b\n",
    "print (\"Hasil %d + %d = %d\" % (a,b,c))\n",
    "\n",
    "# Operator Pengurangan\n",
    "c = a - b\n",
    "print (\"Hasil %d - %d = %d\" % (a,b,c))"
   ]
  },
  {
   "cell_type": "code",
   "execution_count": 33,
   "metadata": {},
   "outputs": [
    {
     "name": "stdout",
     "output_type": "stream",
     "text": [
      "Hasil 2 * 4 = 8\n",
      "Hasil 2 / 4 = 0\n",
      "Hasil 2 % 4 = 2\n",
      "Hasil 2 ** 4 = 16\n"
     ]
    }
   ],
   "source": [
    "# Operator Perkalian\n",
    "c = a * b\n",
    "print (\"Hasil %d * %d = %d\" % (a,b,c))\n",
    "\n",
    "# Operator Pembagian\n",
    "c = a / b\n",
    "print (\"Hasil %d / %d = %d\" % (a,b,c))\n",
    "\n",
    "# Operator Sisa Bagi\n",
    "c = a % b\n",
    "print (\"Hasil %d %% %d = %d\" % (a,b,c))\n",
    "\n",
    "# Operator Pangkat\n",
    "c = a ** b\n",
    "print (\"Hasil %d ** %d = %d\" % (a,b,c))"
   ]
  },
  {
   "cell_type": "code",
   "execution_count": 34,
   "metadata": {},
   "outputs": [
    {
     "name": "stdout",
     "output_type": "stream",
     "text": [
      "Inputkan nilai a: 2\n",
      "Nilai a = 2\n",
      "Nilai setelah ditambah 5:\n",
      "a = 7\n"
     ]
    }
   ],
   "source": [
    "# Ambil input untuk mengisi nilai\n",
    "a = int(input(\"Inputkan nilai a: \"))\n",
    "# ^ \n",
    "# | contoh operator penugasan untuk mengisi nilai\n",
    "\n",
    "print (\"Nilai a = %d\" % a)\n",
    "\n",
    "# Coba kita jumlahkan nilai a dengan opertor penugasan\n",
    "a += 5\n",
    "# ^\n",
    "# |\n",
    "# contoh operator penugasan untuk menjumlahkan\n",
    "\n",
    "# Setelah nilai a ditambah 5, coba kita lihat isinya\n",
    "print (\"Nilai setelah ditambah 5:\")\n",
    "print (\"a = %d\" % a)\n"
   ]
  },
  {
   "cell_type": "code",
   "execution_count": 35,
   "metadata": {},
   "outputs": [
    {
     "name": "stdout",
     "output_type": "stream",
     "text": [
      "Inputkan nilai a: 2\n",
      "Inputkan nilai b: 3\n",
      "Apakah 2 == 3: False\n",
      "Apakah 2 < 3: True\n"
     ]
    }
   ],
   "source": [
    "a = int(input(\"Inputkan nilai a: \"))\n",
    "b = int(input(\"Inputkan nilai b: \"))\n",
    "\n",
    "# apakah a sama dengan b?\n",
    "c = a == b\n",
    "print (\"Apakah %d == %d: %r\" % (a,b,c))\n",
    "\n",
    "# apakah a < b?\n",
    "c = a < b\n",
    "print (\"Apakah %d < %d: %r\" % (a,b,c))"
   ]
  },
  {
   "cell_type": "code",
   "execution_count": 36,
   "metadata": {},
   "outputs": [
    {
     "name": "stdout",
     "output_type": "stream",
     "text": [
      "Apakah 2 > 3: False\n",
      "Apakah 2 <= 3: True\n",
      "Apakah 2 >= 3: False\n",
      "Apakah 2 != 3: True\n"
     ]
    }
   ],
   "source": [
    "# apakah a > b?\n",
    "c = a > b\n",
    "print (\"Apakah %d > %d: %r\" % (a,b,c))\n",
    "\n",
    "# apakah a <= b?\n",
    "c = a <= b\n",
    "print (\"Apakah %d <= %d: %r\" % (a,b,c))\n",
    "\n",
    "# apakah a >= b?\n",
    "c = a >= b\n",
    "print (\"Apakah %d >= %d: %r\" % (a,b,c))\n",
    "\n",
    "# apakah a != b?\n",
    "c = a != b\n",
    "print (\"Apakah %d != %d: %r\" % (a,b,c))"
   ]
  },
  {
   "cell_type": "code",
   "execution_count": 38,
   "metadata": {},
   "outputs": [
    {
     "name": "stdout",
     "output_type": "stream",
     "text": [
      "True and False = False\n",
      "True or False = True\n",
      "not True  = False\n"
     ]
    }
   ],
   "source": [
    "a = True\n",
    "b = False\n",
    "\n",
    "# Logika AND\n",
    "c = a and b\n",
    "print (\"%r and %r = %r\" % (a,b,c))\n",
    "\n",
    "# Logika OR\n",
    "c = a or b\n",
    "print (\"%r or %r = %r\" % (a,b,c))\n",
    "\n",
    "# Logika Not\n",
    "c = not a\n",
    "print (\"not %r  = %r\" % (a,c))\n"
   ]
  },
  {
   "cell_type": "code",
   "execution_count": 40,
   "metadata": {},
   "outputs": [
    {
     "name": "stdout",
     "output_type": "stream",
     "text": [
      "Apakah kamu lulus? [ya/tidak]: ya\n"
     ]
    }
   ],
   "source": [
    "lulus = input(\"Apakah kamu lulus? [ya/tidak]: \")\n",
    "\n",
    "if lulus == \"tidak\":\n",
    "   print(\"Kamu harus ikut ujian\")"
   ]
  },
  {
   "cell_type": "code",
   "execution_count": 42,
   "metadata": {},
   "outputs": [
    {
     "name": "stdout",
     "output_type": "stream",
     "text": [
      "Berapa umur kamu: 18\n",
      "Kamu boleh membuat SIM\n"
     ]
    }
   ],
   "source": [
    "umur = int(input(\"Berapa umur kamu: \"))\n",
    "\n",
    "if umur >= 18:\n",
    "    print(\"Kamu boleh membuat SIM\")\n",
    "else:\n",
    "    print(\"Kamu belum boleh membuat SIM\")"
   ]
  },
  {
   "cell_type": "code",
   "execution_count": 43,
   "metadata": {},
   "outputs": [
    {
     "name": "stdout",
     "output_type": "stream",
     "text": [
      "Inputkan nilaimu: 68\n",
      "Grade: C+\n"
     ]
    }
   ],
   "source": [
    "nilai = int(input(\"Inputkan nilaimu: \"))\n",
    "\n",
    "if nilai >= 90:\n",
    "   grade = \"A\"\n",
    "elif nilai >= 80:\n",
    "   grade = \"B+\"\n",
    "elif nilai >= 70:\n",
    "   grade = \"B\"\n",
    "elif nilai >= 60:\n",
    "   grade = \"C+\"\n",
    "elif nilai >= 50:\n",
    "   grade = \"C\"\n",
    "elif nilai >= 40:\n",
    "   grade = \"D\"\n",
    "else:\n",
    "   grade = \"E\"\n",
    "\n",
    "print(\"Grade: %s\" % grade)\n"
   ]
  },
  {
   "cell_type": "code",
   "execution_count": 45,
   "metadata": {},
   "outputs": [
    {
     "name": "stdout",
     "output_type": "stream",
     "text": [
      "Perulangan ke-0\n",
      "Perulangan ke-1\n",
      "Perulangan ke-2\n",
      "Perulangan ke-3\n",
      "Perulangan ke-4\n",
      "Perulangan ke-5\n",
      "Perulangan ke-6\n",
      "Perulangan ke-7\n",
      "Perulangan ke-8\n",
      "Perulangan ke-9\n"
     ]
    }
   ],
   "source": [
    "ulang = 10\n",
    "\n",
    "for i in range(ulang):\n",
    "    print (\"Perulangan ke-\" + str(i))"
   ]
  },
  {
   "cell_type": "code",
   "execution_count": 47,
   "metadata": {},
   "outputs": [
    {
     "name": "stdout",
     "output_type": "stream",
     "text": [
      "Ulang lagi tidak? ya\n",
      "Ulang lagi tidak? ya\n",
      "Ulang lagi tidak? tidak\n",
      "Total perulagan: 3\n"
     ]
    }
   ],
   "source": [
    "jawab = 'ya'\n",
    "hitung = 0\n",
    "\n",
    "while(jawab == 'ya'):\n",
    "    hitung += 1\n",
    "    jawab = input(\"Ulang lagi tidak? \")\n",
    "\n",
    "print (\"Total perulagan: \" + str(hitung))\n"
   ]
  },
  {
   "cell_type": "code",
   "execution_count": 51,
   "metadata": {},
   "outputs": [],
   "source": [
    "buah = [\"jeruk\", \"apel\", \"mangga\", \"duren\"]"
   ]
  },
  {
   "cell_type": "code",
   "execution_count": 52,
   "metadata": {},
   "outputs": [],
   "source": [
    "laci = [\"buku\", 21, True, 34.12]"
   ]
  },
  {
   "cell_type": "code",
   "execution_count": 54,
   "metadata": {},
   "outputs": [
    {
     "name": "stdout",
     "output_type": "stream",
     "text": [
      "mangga\n"
     ]
    }
   ],
   "source": [
    "# Kita punya list nama-nama buah\n",
    "buah = [\"apel\", \"anggur\", \"mangga\", \"jeruk\"]\n",
    "\n",
    "# Misanya kita ingin mengambil mangga\n",
    "# Maka indeknya adalah 2\n",
    "print (buah[2])"
   ]
  },
  {
   "cell_type": "code",
   "execution_count": 56,
   "metadata": {},
   "outputs": [
    {
     "name": "stdout",
     "output_type": "stream",
     "text": [
      "['jeruk', 'apel', 'mangga', 'duren', 'manggis']\n"
     ]
    }
   ],
   "source": [
    "#list mula-mula\n",
    "buah = [\"jeruk\", \"apel\", \"mangga\", \"duren\"]\n",
    "# Tambahkan manggis\n",
    "buah.append(\"manggis\")\n",
    "\n",
    "print(buah)"
   ]
  },
  {
   "cell_type": "code",
   "execution_count": 59,
   "metadata": {},
   "outputs": [
    {
     "name": "stdout",
     "output_type": "stream",
     "text": [
      "['jeruk', 'apel', 'pepaya', 'mangga', 'duren']\n"
     ]
    }
   ],
   "source": [
    "#list mula-mula\n",
    "buah = [\"jeruk\", \"apel\", \"mangga\", \"duren\"]\n",
    "buah.insert(2, \"pepaya\")\n",
    "\n",
    "print(buah)"
   ]
  },
  {
   "cell_type": "code",
   "execution_count": 61,
   "metadata": {},
   "outputs": [
    {
     "name": "stdout",
     "output_type": "stream",
     "text": [
      "['jeruk', 'apel', 'duren']\n"
     ]
    }
   ],
   "source": [
    "#list mula-mula\n",
    "buah = [\"jeruk\", \"apel\", \"mangga\", \"duren\"]\n",
    "buah.remove(\"mangga\")\n",
    "\n",
    "print(buah)"
   ]
  },
  {
   "cell_type": "code",
   "execution_count": 62,
   "metadata": {},
   "outputs": [
    {
     "data": {
      "text/plain": [
       "2"
      ]
     },
     "execution_count": 62,
     "metadata": {},
     "output_type": "execute_result"
    }
   ],
   "source": [
    "#list mula-mula\n",
    "buah = [\"jeruk\", \"apel\", \"mangga\", \"duren\"]\n",
    "buah.index(\"mangga\")"
   ]
  },
  {
   "cell_type": "code",
   "execution_count": 63,
   "metadata": {},
   "outputs": [
    {
     "name": "stdout",
     "output_type": "stream",
     "text": [
      "['jeruk', 'apel', 'mangga', 'duren']\n"
     ]
    }
   ],
   "source": [
    "buah1 = [\"jeruk\", \"apel\"]\n",
    "buah2 = [ \"mangga\", \"duren\"]\n",
    "  \n",
    "# Add buah2 to buah1 \n",
    "buah1.extend(buah2)         \n",
    "\n",
    "print(buah1) \n",
    "  "
   ]
  },
  {
   "cell_type": "code",
   "execution_count": 65,
   "metadata": {},
   "outputs": [
    {
     "name": "stdout",
     "output_type": "stream",
     "text": [
      "sum : 15\n",
      "min : 1\n",
      "max : 5\n",
      "length : 5\n"
     ]
    }
   ],
   "source": [
    "List = [1, 2, 3, 4, 5] \n",
    "\n",
    "#sum\n",
    "print(\"sum : \" + str(sum(List)))\n",
    "\n",
    "#min\n",
    "print(\"min : \" + str(min(List)))\n",
    "\n",
    "#max\n",
    "print(\"max : \" + str(max(List)))\n",
    "\n",
    "#length\n",
    "print(\"length : \" + str(len(List)))"
   ]
  },
  {
   "cell_type": "code",
   "execution_count": 75,
   "metadata": {},
   "outputs": [
    {
     "name": "stdout",
     "output_type": "stream",
     "text": [
      "{'hardware': 'Raspberry Pi', 'software': 'Python', 'topic': 'Image Processing', 'year': 2019}\n",
      "Hardware : Raspberry Pi\n"
     ]
    }
   ],
   "source": [
    "Training = {\n",
    "  \"hardware\": \"Raspberry Pi\",\n",
    "  \"software\": \"Python\",\n",
    "  \"topic\": \"Image Processing\",\n",
    "  \"year\": 2019\n",
    "}\n",
    "\n",
    "#print dictionary\n",
    "print(Training)\n",
    "\n",
    "#print element in dictionary\n",
    "print(\"Hardware : \" + Training[\"hardware\"])"
   ]
  },
  {
   "cell_type": "code",
   "execution_count": 76,
   "metadata": {},
   "outputs": [
    {
     "name": "stdout",
     "output_type": "stream",
     "text": [
      "Year : 2020\n"
     ]
    }
   ],
   "source": [
    "#change element in dictionary\n",
    "Training[\"year\"] = 2020\n",
    "\n",
    "print(\"Year : \" + str(Training[\"year\"]))"
   ]
  },
  {
   "cell_type": "code",
   "execution_count": 77,
   "metadata": {},
   "outputs": [
    {
     "name": "stdout",
     "output_type": "stream",
     "text": [
      "hardware\n",
      "software\n",
      "topic\n",
      "year\n"
     ]
    }
   ],
   "source": [
    "#iterating dictionary\n",
    "for item in Training:\n",
    "    print (item)"
   ]
  },
  {
   "cell_type": "code",
   "execution_count": 78,
   "metadata": {},
   "outputs": [
    {
     "name": "stdout",
     "output_type": "stream",
     "text": [
      "terdapat key 'topic' pada dictionary Training\n"
     ]
    }
   ],
   "source": [
    "#Check if Key Exists\n",
    "if \"topic\" in Training:\n",
    "    print(\"terdapat key 'topic' pada dictionary Training\");"
   ]
  },
  {
   "cell_type": "code",
   "execution_count": 79,
   "metadata": {},
   "outputs": [
    {
     "name": "stdout",
     "output_type": "stream",
     "text": [
      "4\n"
     ]
    }
   ],
   "source": [
    "#Dictionary length\n",
    "print(len(Training))"
   ]
  },
  {
   "cell_type": "code",
   "execution_count": 80,
   "metadata": {},
   "outputs": [
    {
     "name": "stdout",
     "output_type": "stream",
     "text": [
      "{'hardware': 'Raspberry Pi', 'software': 'Python', 'topic': 'Image Processing', 'year': 2020, 'level': 'basic'}\n"
     ]
    }
   ],
   "source": [
    "#add item to dictionary\n",
    "Training[\"level\"] = \"basic\"\n",
    "\n",
    "print (Training)"
   ]
  },
  {
   "cell_type": "code",
   "execution_count": 83,
   "metadata": {},
   "outputs": [
    {
     "name": "stdout",
     "output_type": "stream",
     "text": [
      "An array of 10 zeros:\n",
      "[0. 0. 0. 0. 0. 0. 0. 0. 0. 0.]\n",
      "An array of 10 ones:\n",
      "[1. 1. 1. 1. 1. 1. 1. 1. 1. 1.]\n",
      "An array of 10 fives:\n",
      "[5. 5. 5. 5. 5. 5. 5. 5. 5. 5.]\n"
     ]
    }
   ],
   "source": [
    "import numpy as np\n",
    "array=np.zeros(10)\n",
    "\n",
    "print(\"An array of 10 zeros:\")\n",
    "print(array)\n",
    "array=np.ones(10)\n",
    "print(\"An array of 10 ones:\")\n",
    "print(array)\n",
    "array=np.ones(10)*5\n",
    "print(\"An array of 10 fives:\")\n",
    "print(array)"
   ]
  },
  {
   "cell_type": "code",
   "execution_count": 87,
   "metadata": {},
   "outputs": [
    {
     "name": "stdout",
     "output_type": "stream",
     "text": [
      "Array of the integers from 30 to70\n",
      "[30 31 32 33 34 35 36 37 38 39 40 41 42 43 44 45 46 47 48 49]\n"
     ]
    }
   ],
   "source": [
    "import numpy as np\n",
    "array=np.arange(30,50)\n",
    "print(\"Array of the integers from 30 to70\")\n",
    "print(array)"
   ]
  },
  {
   "cell_type": "code",
   "execution_count": 88,
   "metadata": {},
   "outputs": [
    {
     "name": "stdout",
     "output_type": "stream",
     "text": [
      "3x3 matrix:\n",
      "[[1. 0. 0.]\n",
      " [0. 1. 0.]\n",
      " [0. 0. 1.]]\n"
     ]
    }
   ],
   "source": [
    "import numpy as np\n",
    "array_2D=np.identity(3)\n",
    "print('3x3 matrix:')\n",
    "print(array_2D)"
   ]
  },
  {
   "cell_type": "code",
   "execution_count": 89,
   "metadata": {},
   "outputs": [
    {
     "name": "stdout",
     "output_type": "stream",
     "text": [
      "[[10 11 12 13]\n",
      " [14 15 16 17]\n",
      " [18 19 20 21]]\n"
     ]
    }
   ],
   "source": [
    "import numpy as np\n",
    "m= np.arange(10,22).reshape((3, 4))\n",
    "print(m)"
   ]
  },
  {
   "cell_type": "code",
   "execution_count": 90,
   "metadata": {},
   "outputs": [
    {
     "name": "stdout",
     "output_type": "stream",
     "text": [
      "[[ 10  20  30 100]\n",
      " [ 40  50  60 200]]\n"
     ]
    }
   ],
   "source": [
    "import numpy as np\n",
    "x = np.array([[10,20,30], [40,50,60]])\n",
    "y = np.array([[100], [200]])\n",
    "print(np.append(x, y, axis=1))\n"
   ]
  },
  {
   "cell_type": "code",
   "execution_count": 3,
   "metadata": {},
   "outputs": [
    {
     "name": "stdout",
     "output_type": "stream",
     "text": [
      "R=237, G=238, B=240\n"
     ]
    }
   ],
   "source": [
    "#show R, G, B value in pixel (100,50)\n",
    "\n",
    "import cv2\n",
    "\n",
    "img = cv2.imread(\"myimage.jpg\")\n",
    "\n",
    "(B, G, R) = img[500, 250]\n",
    "print(\"R={}, G={}, B={}\".format(R, G, B))\n"
   ]
  },
  {
   "cell_type": "code",
   "execution_count": 3,
   "metadata": {},
   "outputs": [],
   "source": [
    "import cv2\n",
    "\n",
    "#read image\n",
    "img = cv2.imread('myimage.jpg')\n",
    "\n",
    "#show image\n",
    "cv2.imshow('image',img)\n",
    "\n",
    "#hold until exit signal executed\n",
    "cv2.waitKey(0)\n",
    "cv2.destroyAllWindows()\n"
   ]
  },
  {
   "cell_type": "code",
   "execution_count": 5,
   "metadata": {},
   "outputs": [],
   "source": [
    "import cv2\n",
    "\n",
    "#read image\n",
    "img = cv2.imread('myimage.jpg')\n",
    "\n",
    "#resize using cv2.resize(<image>, (width, height))\n",
    "img_resize = cv2.resize(img, (640, 480)) \n",
    "\n",
    "#show image\n",
    "cv2.imshow('image resize',img_resize)\n",
    "cv2.waitKey(0)\n",
    "cv2.destroyAllWindows()\n"
   ]
  },
  {
   "cell_type": "code",
   "execution_count": 10,
   "metadata": {},
   "outputs": [],
   "source": [
    "import cv2\n",
    "\n",
    "#read image\n",
    "img = cv2.imread('myimage.jpg')\n",
    "\n",
    "#crop image img[min_y:max_y, min_x:max_x]\n",
    "img_crop = img[60:960, 120:620] \n",
    "\n",
    "#show image\n",
    "cv2.imshow('image crop',img_crop)\n",
    "cv2.waitKey(0)\n",
    "cv2.destroyAllWindows()\n"
   ]
  },
  {
   "cell_type": "code",
   "execution_count": 7,
   "metadata": {},
   "outputs": [],
   "source": [
    "import cv2\n",
    "\n",
    "# load image\n",
    "img = cv2.imread('myimage.jpg')\n",
    "\n",
    "# resize\n",
    "img = cv2.resize(img, (960, 540))  \n",
    "\n",
    "# detect image size height, width, channel using, <image>.shape\n",
    "h, w, c = img.shape\n",
    "\n",
    "# calculate center of image\n",
    "# use //  to perform integer math, no floating point values\n",
    "center = (0,0)#(w // 2, h // 2)\n",
    "\n",
    "# using cv2.getRotationMatrix2D to get matrix rotation\n",
    "# rotate -45*, scale factor 1\n",
    "M = cv2.getRotationMatrix2D(center, 90, 1.0)\n",
    "\n",
    "# using cv2.warpAffine to get rotated image\n",
    "rotated = cv2.warpAffine(img, M, (w, h))\n",
    "\n",
    "# show image\n",
    "cv2.imshow(\"OpenCV Rotation\", rotated)\n",
    "cv2.waitKey(0)\n",
    "cv2.destroyAllWindows()"
   ]
  },
  {
   "cell_type": "code",
   "execution_count": 12,
   "metadata": {},
   "outputs": [
    {
     "name": "stdout",
     "output_type": "stream",
     "text": [
      "[[0, -1], [1, 0]]\n"
     ]
    }
   ],
   "source": [
    "print (M)"
   ]
  },
  {
   "cell_type": "code",
   "execution_count": 9,
   "metadata": {},
   "outputs": [],
   "source": [
    "import numpy as np\n",
    "M = [[0 ,-1],[1, 0]]\n",
    "A = [1,1]\n",
    "B = np.dot(A,M)"
   ]
  },
  {
   "cell_type": "code",
   "execution_count": 11,
   "metadata": {},
   "outputs": [
    {
     "name": "stdout",
     "output_type": "stream",
     "text": [
      "[ 1 -1]\n"
     ]
    }
   ],
   "source": [
    "print (B)"
   ]
  },
  {
   "cell_type": "code",
   "execution_count": 14,
   "metadata": {},
   "outputs": [],
   "source": [
    "import cv2\n",
    "\n",
    "#load image\n",
    "img = cv2.imread('myimage.jpg')\n",
    "\n",
    "# resize image\n",
    "img_resize = cv2.resize(img, (960, 540))  \n",
    "\n",
    "# convert the image to grayscale\n",
    "gray = cv2.cvtColor(img_resize, cv2.COLOR_BGR2GRAY)\n",
    "\n",
    "#show image\n",
    "cv2.imshow(\"Gray\", gray)\n",
    "cv2.waitKey(0)\n",
    "cv2.destroyAllWindows()\n"
   ]
  },
  {
   "cell_type": "code",
   "execution_count": 17,
   "metadata": {},
   "outputs": [],
   "source": [
    "import cv2\n",
    "import numpy as np\n",
    "\n",
    "# load video\n",
    "cap = cv2.VideoCapture('video.mp4')\n",
    "\n",
    "# iterate for each frame in video\n",
    "while(cap.isOpened()):\n",
    "    \n",
    "    # get image on each frame\n",
    "    ret, frame = cap.read()\n",
    "    if ret == True:\n",
    "        \n",
    "        # show image\n",
    "        cv2.imshow('Frame',frame)\n",
    "        \n",
    "        # close using 'q' \n",
    "        if cv2.waitKey(25) & 0xFF == ord('q'):\n",
    "              break\n",
    "    else: \n",
    "        break\n",
    "\n",
    "#close video\n",
    "cap.release()\n",
    "#close window\n",
    "cv2.destroyAllWindows()\n"
   ]
  },
  {
   "cell_type": "code",
   "execution_count": 13,
   "metadata": {},
   "outputs": [],
   "source": [
    "#load pi camera library \n",
    "from picamera.array import PiRGBArray\n",
    "from picamera import PiCamera\n",
    "import time\n",
    "import cv2\n",
    "\n",
    "# define PiCamera() object\n",
    "camera = PiCamera()\n",
    "\n",
    "# define raw capture object, to hold image array data \n",
    "# and wait for warming up\n",
    "rawCapture = PiRGBArray(camera)\n",
    "time.sleep(0.1)\n",
    " \n",
    "#capture image\n",
    "camera.capture(rawCapture, format=\"bgr\")\n",
    "\n",
    "# get array image from rawCapture object\n",
    "img = rawCapture.array\n",
    "\n",
    "#close camera\n",
    "camera.close()\n",
    "\n",
    "#show image\n",
    "img = cv2.resize(img, (640, 480))\n",
    "cv2.imshow(\"Image\", img)\n",
    "cv2.waitKey(0)\n",
    "cv2.destroyAllWindows()\n"
   ]
  },
  {
   "cell_type": "code",
   "execution_count": 21,
   "metadata": {},
   "outputs": [],
   "source": [
    "from picamera.array import PiRGBArray\n",
    "from picamera import PiCamera\n",
    "import time\n",
    "import cv2\n",
    " \n",
    "#setup\n",
    "camera = PiCamera()\n",
    "camera.resolution = (320, 240)\n",
    "camera.framerate = 32\n",
    "rawCapture = PiRGBArray(camera)\n",
    " \n",
    "time.sleep(0.1)\n",
    " \n",
    "#iterate for each frame in camera stream \n",
    "for frame in camera.capture_continuous \\\n",
    "        (rawCapture, format=\"bgr\", use_video_port=True):\n",
    "\n",
    "    #show image\n",
    "\timage = frame.array\n",
    "\tcv2.imshow(\"Frame\", image)\n",
    "    \n",
    "    #clean current array data in rawCapture object\n",
    "\trawCapture.truncate(0)\n",
    " \n",
    "\tif cv2.waitKey(1) & 0xFF == ord(\"q\"):\n",
    "\t\tbreak\n",
    "\n",
    "cv2.destroyAllWindows()\n",
    "camera.close()"
   ]
  },
  {
   "cell_type": "code",
   "execution_count": 23,
   "metadata": {},
   "outputs": [
    {
     "data": {
      "text/plain": [
       "array([[[255, 255, 255],\n",
       "        [255, 255, 255],\n",
       "        [255, 255, 255],\n",
       "        ...,\n",
       "        [  0,   0,   0],\n",
       "        [  0,   0,   0],\n",
       "        [  0,   0,   0]],\n",
       "\n",
       "       [[255, 255, 255],\n",
       "        [255, 255, 255],\n",
       "        [255, 255, 255],\n",
       "        ...,\n",
       "        [  0,   0,   0],\n",
       "        [  0,   0,   0],\n",
       "        [  0,   0,   0]],\n",
       "\n",
       "       [[255, 255, 255],\n",
       "        [255, 255, 255],\n",
       "        [255, 255, 255],\n",
       "        ...,\n",
       "        [  0,   0,   0],\n",
       "        [  0,   0,   0],\n",
       "        [  0,   0,   0]],\n",
       "\n",
       "       ...,\n",
       "\n",
       "       [[  0,   1,   0],\n",
       "        [  0,   1,   0],\n",
       "        [  0,   1,   0],\n",
       "        ...,\n",
       "        [  0,   0,   0],\n",
       "        [  0,   0,   0],\n",
       "        [  0,   0,   0]],\n",
       "\n",
       "       [[  0,   2,   0],\n",
       "        [  0,   2,   0],\n",
       "        [  0,   1,   0],\n",
       "        ...,\n",
       "        [  0,   0,   0],\n",
       "        [  0,   0,   0],\n",
       "        [  0,   0,   0]],\n",
       "\n",
       "       [[  0,   2,   0],\n",
       "        [  0,   2,   0],\n",
       "        [  0,   1,   0],\n",
       "        ...,\n",
       "        [  0,   0,   0],\n",
       "        [  0,   0,   0],\n",
       "        [  0,   0,   0]]], dtype=uint8)"
      ]
     },
     "execution_count": 23,
     "metadata": {},
     "output_type": "execute_result"
    }
   ],
   "source": [
    "import numpy as np\n",
    "\n",
    "# draw line on image, cv2.line(<image>, (x0,y0), (xt,yt), (B, G, R), thickness)\n",
    "cv2.line(img,(0,0),(150,150),(255,255,255),15)\n",
    "\n",
    "# draw rectangle on image, cv2.rectangle(<image>, (x0,y0), (xt,yt), (B, G, R), thickness)\n",
    "# (x0,y0) : Vertex of the rectangle, (xt,yt) : Vertex of the rectangle opposite (x0,y0) \n",
    "cv2.rectangle(img,(15,25),(200,150),(0,0,255),15)\n",
    "\n",
    "# draw circle on image, cv2.circle(<image>, (x_center,y_center), radius, (B, G, R), thickness)\n",
    "cv2.circle(img,(100,63), 55, (0,255,0), -1)\n",
    "\n",
    "# draw poliline on image, cv2.poliline(<image>, array_pts[], isClosed, radius, (B, G, R), thickness)\n",
    "pts = np.array([[10,5],[20,30],[70,20],[50,10]], np.int32)\n",
    "cv2.polylines(img, [pts], True, (0,255,255), 3)\n",
    "\n",
    "# draw circle on image, cv2.circle(<image>, Text_content, (x0,y0), font, font_scale, (B, G, R), thickness)\n",
    "cv2.putText(img, \"OpenCV Write Text On Image\", (10, 25), \t\t\t\tcv2.FONT_HERSHEY_SIMPLEX, 0.7, (0, 255, 0), 2)\n"
   ]
  },
  {
   "cell_type": "code",
   "execution_count": 26,
   "metadata": {},
   "outputs": [],
   "source": [
    "import cv2\n",
    "\n",
    "#load image\n",
    "img = cv2.imread('myimage.jpg')\n",
    "\n",
    "#resize\n",
    "img = cv2.resize(img, (640,480))\n",
    "\n",
    "#draw line \n",
    "img = cv2.line(img,(0,0),(150,150),(0,0,255),15)\n",
    "\n",
    "#show image\n",
    "cv2.imshow('image',img)\n",
    "cv2.waitKey(0)\n",
    "cv2.destroyAllWindows()\n",
    "\n"
   ]
  },
  {
   "cell_type": "code",
   "execution_count": 4,
   "metadata": {},
   "outputs": [],
   "source": [
    "import cv2\n",
    "\n",
    "#load & resize image\n",
    "img = cv2.imread('car.jpg')\n",
    "img_resize = cv2.resize(img, (640, 480))  \n",
    "\n",
    "#apply canny edge detection \n",
    "#cv2.canny(<image>, threshold_min, threshold_max)\n",
    "edged = cv2.Canny(img_resize, 230, 250)\n",
    "\n",
    "#show image \n",
    "cv2.imshow(\"Original Image\",img_resize)\n",
    "cv2.imshow(\"Edged Image\", edged)\n",
    "\n",
    "cv2.waitKey(0)\n",
    "cv2.destroyAllWindows()"
   ]
  },
  {
   "cell_type": "code",
   "execution_count": 2,
   "metadata": {},
   "outputs": [],
   "source": [
    "import cv2\n",
    "\n",
    "img = cv2.imread('myimage.jpg')\n",
    "img_resize = cv2.resize(img, (640, 480))  \n",
    "\n",
    "     \n",
    "gray = cv2.cvtColor(img_resize, cv2.COLOR_BGR2GRAY)\n",
    "\n",
    "thresh = cv2.threshold(gray, 225, 255, cv2.THRESH_BINARY_INV)[1]\n",
    "\n",
    "cv2.imshow('image resize',img_resize)\n",
    "cv2.imshow(\"Thresh\", thresh)\n",
    "cv2.waitKey(0)\n"
   ]
  },
  {
   "cell_type": "code",
   "execution_count": 12,
   "metadata": {},
   "outputs": [],
   "source": [
    "import cv2\n",
    "\n",
    "#read image\n",
    "img = cv2.imread('lena_noise.jpg')\n",
    "\n",
    "# apply gaussian blur, using 5x5 Gaussian Filtering\n",
    "# cv2.GaussianBlur(<image>, kernel size, sigmaX, sigmaY)\n",
    "blur = cv2.GaussianBlur(img,(5,5), 0, 0)\n",
    "\n",
    "#show image\n",
    "cv2.imshow(\"Original Image\",img)\n",
    "cv2.imshow(\"Blur Image\", blur)\n",
    "cv2.waitKey(0)\n",
    "cv2.destroyAllWindows()"
   ]
  },
  {
   "cell_type": "code",
   "execution_count": 21,
   "metadata": {},
   "outputs": [],
   "source": [
    "import cv2\n",
    "\n",
    "img = cv2.imread('number_plate.jpg')\n",
    "\n",
    "#convert to grayscale\n",
    "img = cv2.cvtColor(img, cv2.COLOR_BGR2GRAY)\n",
    "\n",
    "# apply thresholding \n",
    "# cv2.thresholding(<image>, threshold value, max value, threshold method)\n",
    "ret1, thresh1 = cv2.threshold(img, 200, 255, cv2.THRESH_BINARY)\n",
    "ret2, thresh2 = cv2.threshold(img, 200, 255, cv2.THRESH_BINARY_INV)\n",
    "ret3, thresh3 = cv2.threshold(img, 200, 255, cv2.THRESH_TRUNC)\n",
    "ret4, thresh4 = cv2.threshold(img, 200, 255, cv2.THRESH_TOZERO)\n",
    "ret5, thresh5 = cv2.threshold(img, 200, 255, cv2.THRESH_TOZERO_INV)\n",
    "\n",
    "#show image\n",
    "cv2.imshow(\"Original Image\",img)\n",
    "cv2.imshow(\"Thresholded Binary\", thresh1)\n",
    "cv2.imshow(\"Thresholded Binary Inv\", thresh2)\n",
    "cv2.imshow(\"Thresholded Trunc\", thresh3)\n",
    "cv2.imshow(\"Thresholded To Zero\", thresh4)\n",
    "cv2.imshow(\"Thresholded To Zero Inv\", thresh5)\n",
    "\n",
    "cv2.waitKey(0)\n",
    "cv2.destroyAllWindows()"
   ]
  },
  {
   "cell_type": "code",
   "execution_count": 25,
   "metadata": {},
   "outputs": [],
   "source": [
    "import cv2 as cv\n",
    "import numpy as np\n",
    "\n",
    "img = cv.imread('number_plate_noise.jpg')\n",
    "\n",
    "gray = cv2.cvtColor(img, cv2.COLOR_BGR2GRAY)\n",
    "\n",
    "# global thresholding\n",
    "ret1,th1 = cv.threshold(gray,127,255,cv.THRESH_BINARY)\n",
    "\n",
    "# Otsu's thresholding\n",
    "ret2,th2 = cv.threshold(gray,0,255,cv.THRESH_BINARY+cv.THRESH_OTSU)\n",
    "\n",
    "# Otsu's thresholding after Gaussian filtering\n",
    "blur = cv.GaussianBlur(gray,(5,5),0)\n",
    "ret3,th3 = cv.threshold(blur,0,255,cv.THRESH_BINARY+cv.THRESH_OTSU)\n",
    "\n",
    "\n",
    "#show image\n",
    "cv2.imshow(\"Original Image\",img)\n",
    "cv2.imshow(\"Global Thresholding\", th1)\n",
    "cv2.imshow(\"Otsu's Thresholding\", th2)\n",
    "cv2.imshow(\"Otsu's Thresholding after Gaussian Filter\", th3)\n",
    "\n",
    "cv2.waitKey(0)\n",
    "cv2.destroyAllWindows()"
   ]
  },
  {
   "cell_type": "code",
   "execution_count": 35,
   "metadata": {},
   "outputs": [
    {
     "ename": "ModuleNotFoundError",
     "evalue": "No module named 'imutils'",
     "output_type": "error",
     "traceback": [
      "\u001b[0;31m---------------------------------------------------------------------------\u001b[0m",
      "\u001b[0;31mModuleNotFoundError\u001b[0m                       Traceback (most recent call last)",
      "\u001b[0;32m<ipython-input-35-8110b80077ae>\u001b[0m in \u001b[0;36m<module>\u001b[0;34m\u001b[0m\n\u001b[1;32m      1\u001b[0m \u001b[0;32mimport\u001b[0m \u001b[0mcv2\u001b[0m\u001b[0;34m\u001b[0m\u001b[0;34m\u001b[0m\u001b[0m\n\u001b[0;32m----> 2\u001b[0;31m \u001b[0;32mimport\u001b[0m \u001b[0mimutils\u001b[0m\u001b[0;34m\u001b[0m\u001b[0;34m\u001b[0m\u001b[0m\n\u001b[0m\u001b[1;32m      3\u001b[0m \u001b[0;34m\u001b[0m\u001b[0m\n\u001b[1;32m      4\u001b[0m \u001b[0mimg\u001b[0m \u001b[0;34m=\u001b[0m \u001b[0mcv2\u001b[0m\u001b[0;34m.\u001b[0m\u001b[0mimread\u001b[0m\u001b[0;34m(\u001b[0m\u001b[0;34m'number_plate.jpg'\u001b[0m\u001b[0;34m)\u001b[0m\u001b[0;34m\u001b[0m\u001b[0;34m\u001b[0m\u001b[0m\n\u001b[1;32m      5\u001b[0m \u001b[0mimg_resize\u001b[0m \u001b[0;34m=\u001b[0m \u001b[0mcv2\u001b[0m\u001b[0;34m.\u001b[0m\u001b[0mresize\u001b[0m\u001b[0;34m(\u001b[0m\u001b[0mimg\u001b[0m\u001b[0;34m,\u001b[0m \u001b[0;34m(\u001b[0m\u001b[0;36m640\u001b[0m\u001b[0;34m,\u001b[0m \u001b[0;36m480\u001b[0m\u001b[0;34m)\u001b[0m\u001b[0;34m)\u001b[0m\u001b[0;34m\u001b[0m\u001b[0;34m\u001b[0m\u001b[0m\n",
      "\u001b[0;31mModuleNotFoundError\u001b[0m: No module named 'imutils'"
     ]
    }
   ],
   "source": [
    "import cv2\n",
    "import imutils\n",
    "\n",
    "img = cv2.imread('number_plate.jpg')\n",
    "img_resize = cv2.resize(img, (640, 480))  \n",
    "\n",
    "gray = cv2.cvtColor(img_resize, cv2.COLOR_BGR2GRAY)\n",
    "\n",
    "ret, thresh = cv2.threshold(gray, 225, 255, cv2.THRESH_BINARY_INV)\n",
    "\n",
    "cnts = cv2.findContours(thresh.copy(), cv2.RETR_EXTERNAL, cv2.CHAIN_APPROX_SIMPLE)\n",
    "cnts = imutils.grab_contours(cnts)\n",
    "output = image.copy()\n",
    "\n",
    "for c in cnts:\n",
    "\tcv2.drawContours(output, [c], -1, (240, 0, 159), 3)\n",
    "\tcv2.imshow(\"Contours\", output)\n",
    "\tcv2.waitKey(0)\n"
   ]
  },
  {
   "cell_type": "code",
   "execution_count": 72,
   "metadata": {},
   "outputs": [],
   "source": [
    "import numpy as np\n",
    "import cv2\n",
    "\n",
    "#load image\n",
    "img = cv2.imread('blocks.jpg')\n",
    "\n",
    "#convert to grayscale\n",
    "gray = cv2.cvtColor(img, cv2.COLOR_BGR2GRAY)\n",
    "\n",
    "#convert to binary image, inverse white background to black and vice versa\n",
    "ret, thresh = cv2.threshold(gray, 225, 255, cv2.THRESH_BINARY_INV)\n",
    "\n",
    "#apply find contour, cv2.findContour(<image>, mode, method)\n",
    "_, contours, _ = cv2.findContours(thresh.copy(), cv2.RETR_EXTERNAL, cv.CHAIN_APPROX_NONE)\n",
    "\n",
    "for item in contours:\n",
    "    # draw red line on each contours using \n",
    "    # cv2.drawContour(<image>, points, contour_index, color, thickness)\n",
    "    # contour_index : Parameter indicating a contour to draw. \n",
    "    # if it is negative, all the contours are drawn\n",
    "    cv2.drawContours(img, item, -1, (0,0,255), 3)\n",
    "\n",
    "cv2.imshow(\"Contours\", img)\n",
    "cv2.imshow(\"Thresh\", thresh)\n",
    "cv2.waitKey(0)\n",
    "cv2.destroyAllWindows()\n"
   ]
  },
  {
   "cell_type": "code",
   "execution_count": 8,
   "metadata": {},
   "outputs": [],
   "source": [
    "import cv2\n",
    "import numpy as np\n",
    "\n",
    "# Read image \n",
    "img = cv2.imread('road.jpg', cv2.IMREAD_COLOR)\n",
    "\n",
    "# Convert the image to gray-scale\n",
    "gray = cv2.cvtColor(img, cv2.COLOR_BGR2GRAY)\n",
    "\n",
    "# Find the edges in the image using canny detector\n",
    "edges = cv2.Canny(gray, 50, 200)\n",
    "\n",
    "# Detect points that form a line\n",
    "# cv2.HoughLinesP(<image>, rho, theta, threshold, minLineLength, maxLineGap)\n",
    "lines = cv2.HoughLinesP(edges, 1, np.pi/180, 50, minLineLength=100, maxLineGap=20)\n",
    "\n",
    "# Draw lines on the image\n",
    "for line in lines:\n",
    "    x1, y1, x2, y2 = line[0]\n",
    "    cv2.line(img, (x1, y1), (x2, y2), (255, 0, 0), 3)\n",
    "\n",
    "cv2.imshow(\"Result Image\", img)\n",
    "cv2.waitKey(0)\n",
    "cv2.destroyAllWindows()"
   ]
  },
  {
   "cell_type": "code",
   "execution_count": null,
   "metadata": {},
   "outputs": [],
   "source": [
    "import numpy as np\n",
    "import cv2\n",
    "\n",
    "image = cv2.imread(“image_circle.jpg”)\n",
    "output = image.copy()\n",
    "gray = cv2.cvtColor(image, cv2.COLOR_BGR2GRAY)\n",
    "\n",
    "circles = cv2.HoughCircles(gray, cv2.cv.CV_HOUGH_GRADIENT, 1.2, 100)\n",
    " \n",
    "if circles is not None:\n",
    "circles = np.round(circles[0, :]).astype(\"int\")\n",
    " \n",
    "for (x, y, r) in circles:\n",
    "cv2.circle(output, (x, y), r, (0, 255, 0), 4)\n",
    "cv2.rectangle(output, (x - 5, y - 5), (x + 5, y + 5), (0, 128, 255), -1)\n",
    " \n",
    "cv2.imshow(\"output\", np.hstack([image, output]))\n",
    "cv2.waitKey(0)\n",
    "cv2.destroyAllWindows()"
   ]
  },
  {
   "cell_type": "code",
   "execution_count": 26,
   "metadata": {},
   "outputs": [],
   "source": [
    "import cv2\n",
    "\n",
    "img = cv2.imread('eye.jpg')\n",
    "gray = cv2.cvtColor(img, cv2.COLOR_BGR2GRAY)\n",
    "\n",
    "# apply gaussian blur, using 5x5 Gaussian Filtering\n",
    "blur = cv2.GaussianBlur(gray,(5,5), 0, 0)\n",
    "\n",
    "# Apply hough transform on the image\n",
    "# cv2HoughCircles(\n",
    "#               <image>, \n",
    "#               method, \n",
    "#               inverse_ratio, \n",
    "#               min_dist_center, \n",
    "#               max_val_canny, \n",
    "#               accumulator_threshold, \n",
    "#               minRadius, maxRadius)\n",
    "circles = cv2.HoughCircles(img_blur, cv2.HOUGH_GRADIENT, 1, img.shape[0]/64, param1=200, param2=15, \\\n",
    "                           minRadius=5, maxRadius=30)\n",
    "\n",
    "# Draw detected circles\n",
    "if circles is not None:\n",
    "    circles = np.uint16(np.around(circles))\n",
    "    for i in circles[0, :]:\n",
    "        cv2.circle(img, (i[0], i[1]), i[2], (0, 255, 0), 2)\n",
    "        \n",
    "cv2.imshow(\"output\", img)\n",
    "cv2.waitKey(0)\n",
    "cv2.destroyAllWindows()"
   ]
  },
  {
   "cell_type": "code",
   "execution_count": 43,
   "metadata": {},
   "outputs": [],
   "source": [
    "import cv2\n",
    "import numpy as np\n",
    "\n",
    "#load image\n",
    "img = cv2.imread('blocks.jpg')\n",
    "\n",
    "#convert to hsv\n",
    "hsv = cv2.cvtColor(img, cv2.COLOR_BGR2HSV)\n",
    "\n",
    "# define range of blue color in HSV\n",
    "lower_blue = np.array([110,50,50])\n",
    "upper_blue = np.array([130,255,255])\n",
    "\n",
    "# define range of red color in HSV\n",
    "lower_red = np.array([0, 255, 160])\n",
    "upper_red = np.array([0, 210, 255])\n",
    "\n",
    "# define range of green color in HSV\n",
    "lower_green = np.array([60, 255,  66])\n",
    "upper_green = np.array([60, 150, 255])\n",
    "\n",
    "# Threshold the HSV image to get only blue colors\n",
    "mask_blue = cv2.inRange(hsv, lower_blue, upper_blue)\n",
    "mask_red = cv2.inRange(hsv, lower_red, upper_red)\n",
    "mask_green = cv2.inRange(hsv, lower_green, upper_green)\n",
    "\n",
    "# Bitwise-AND mask and original image\n",
    "res_blue = cv2.bitwise_and(img, img, mask= mask_blue)\n",
    "res_red = cv2.bitwise_and(img, img, mask= mask_red)\n",
    "res_green = cv2.bitwise_and(img, img, mask= mask_green)\n",
    "\n",
    "cv2.imshow('frame',img)\n",
    "cv2.imshow('res blue',res_blue)\n",
    "cv2.imshow('res red',res_red)\n",
    "cv2.imshow('res green',res_green)\n",
    "\n",
    "cv2.waitKey(0)\n",
    "cv2.destroyAllWindows()"
   ]
  },
  {
   "cell_type": "code",
   "execution_count": 38,
   "metadata": {},
   "outputs": [
    {
     "name": "stdout",
     "output_type": "stream",
     "text": [
      "[[[ 60 150 255]]]\n"
     ]
    }
   ],
   "source": [
    "green = np.uint8([[[105, 255, 105 ]]])\n",
    "hsv_green = cv2.cvtColor(green,cv2.COLOR_BGR2HSV)\n",
    "print( hsv_green )"
   ]
  },
  {
   "cell_type": "code",
   "execution_count": 37,
   "metadata": {},
   "outputs": [
    {
     "name": "stdout",
     "output_type": "stream",
     "text": [
      "[[[ 60 255  66]]]\n"
     ]
    }
   ],
   "source": [
    "green = np.uint8([[[0,66,0]]])\n",
    "hsv_green = cv2.cvtColor(green,cv2.COLOR_BGR2HSV)\n",
    "print( hsv_green )"
   ]
  },
  {
   "cell_type": "code",
   "execution_count": null,
   "metadata": {},
   "outputs": [],
   "source": []
  }
 ],
 "metadata": {
  "kernelspec": {
   "display_name": "Python 3",
   "language": "python",
   "name": "python3"
  },
  "language_info": {
   "codemirror_mode": {
    "name": "ipython",
    "version": 3
   },
   "file_extension": ".py",
   "mimetype": "text/x-python",
   "name": "python",
   "nbconvert_exporter": "python",
   "pygments_lexer": "ipython3",
   "version": "3.7.3"
  }
 },
 "nbformat": 4,
 "nbformat_minor": 2
}
